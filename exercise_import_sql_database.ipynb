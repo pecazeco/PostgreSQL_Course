{
 "cells": [
  {
   "cell_type": "code",
   "execution_count": 1,
   "metadata": {},
   "outputs": [],
   "source": [
    "import psycopg2 as pypg"
   ]
  },
  {
   "cell_type": "code",
   "execution_count": null,
   "metadata": {},
   "outputs": [],
   "source": [
    "conn = pypg.connect( host='localhost', database='dvdrental', user='postgres', password='password')"
   ]
  },
  {
   "cell_type": "code",
   "execution_count": 9,
   "metadata": {},
   "outputs": [],
   "source": [
    "cur = conn.cursor()"
   ]
  },
  {
   "cell_type": "code",
   "execution_count": 10,
   "metadata": {},
   "outputs": [],
   "source": [
    "cur.execute(\n",
    "    'SELECT * FROM actors_and_their_films'\n",
    "    )"
   ]
  },
  {
   "cell_type": "code",
   "execution_count": 14,
   "metadata": {},
   "outputs": [
    {
     "data": {
      "text/plain": [
       "[(6,\n",
       "  'Bette Nicholson',\n",
       "  20,\n",
       "  'Antitrust Tomatoes, Bang Kwai, Beast Hunchback, Bikini Borrowers, Calendar Gunfight, Coast Rainbow, Coldblooded Darling, Crossroads Casualties, Drop Waterfront, Igby Maker, Kramer Chocolate, Language Cowboy, Lesson Cleopatra, Liberty Magnificent, Mulholland Beast, Potluck Mixed, Speed Suit, Titanic Boondock, Trading Pinocchio, Wyoming Storm'),\n",
       " (7,\n",
       "  'Grace Mostel',\n",
       "  30,\n",
       "  'Angels Life, Anonymous Human, Arachnophobia Rollercoaster, Berets Agent, Breaking Home, Command Darling, Confessions Maguire, Dazed Punk, Deceiver Betrayed, Destination Jerk, Excitement Eve, Gaslight Crusade, Hellfighters Sierra, Instinct Airport, Malkovich Pet, Necklace Outbreak, October Submarine, Open African, Poseidon Forever, Saints Bride, Savannah Town, Scissorhands Slums, Sleepless Monsoon, Sleepy Japanese, Sting Personal, Town Ark, Tracy Cider, Treatment Jekyll, War Notting, Warlock Werewolf')]"
      ]
     },
     "execution_count": 14,
     "metadata": {},
     "output_type": "execute_result"
    }
   ],
   "source": [
    "data = cur.fetchmany(2)\n",
    "data"
   ]
  }
 ],
 "metadata": {
  "kernelspec": {
   "display_name": "base",
   "language": "python",
   "name": "python3"
  },
  "language_info": {
   "codemirror_mode": {
    "name": "ipython",
    "version": 3
   },
   "file_extension": ".py",
   "mimetype": "text/x-python",
   "name": "python",
   "nbconvert_exporter": "python",
   "pygments_lexer": "ipython3",
   "version": "3.12.2"
  }
 },
 "nbformat": 4,
 "nbformat_minor": 2
}
